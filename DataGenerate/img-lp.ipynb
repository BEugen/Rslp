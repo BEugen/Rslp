{
 "cells": [
  {
   "cell_type": "code",
   "execution_count": 15,
   "metadata": {},
   "outputs": [],
   "source": [
    "import numpy as np\n",
    "import matplotlib.pyplot as plt\n",
    "import matplotlib.image as mpimg\n",
    "import cv2\n",
    "%matplotlib inline\n"
   ]
  },
  {
   "cell_type": "code",
   "execution_count": 76,
   "metadata": {},
   "outputs": [
    {
     "name": "stdout",
     "output_type": "stream",
     "text": [
      "4 17\n",
      "18 31\n",
      "32 45\n",
      "47 56\n",
      "63 71\n",
      "74 85\n",
      "87 103\n",
      "103 118\n"
     ]
    },
    {
     "data": {
      "image/png": "[encoded data removed]",
      "text/plain": [
       "<matplotlib.figure.Figure at 0x7f1029dd9668>"
      ]
     },
     "metadata": {},
     "output_type": "display_data"
    }
   ],
   "source": [
    "img=cv2.imread('/home/administrator/1/14_1403_B997TP35.jpg', cv2.IMREAD_GRAYSCALE)\n",
    "plt.figure(figsize=(15,18))\n",
    "img = cv2.adaptiveThreshold(img, 200, cv2.ADAPTIVE_THRESH_GAUSSIAN_C, cv2.THRESH_BINARY, 9, 3)\n",
    "img[img.shape[0] - 4: img.shape[0], 0:img.shape[1]] = 255\n",
    "img[0: 4, 0:img.shape[1]] = 255\n",
    "imgplot = plt.imshow(img)\n",
    "mn = []\n",
    "for i in range(0, img.shape[1]):\n",
    "    mn.append(np.mean(img[:, i:i + 3]))\n",
    "    i += 3\n",
    "md = np.median(mn)*1.15\n",
    "indx = np.where(mn >= md)\n",
    "plt.plot([0, img.shape[1]], [md, md])\n",
    "plt.plot(mn)\n",
    "if len(indx) > 0:\n",
    "    indx = indx[0]\n",
    "for i in range(1, len(indx)):\n",
    "    if (indx[i] - indx[i-1]) < 3:\n",
    "        continue\n",
    "    print(indx[i-1], indx[i])\n",
    "    imgs.append(np.copy(img[0:img.shape[0], indx[i-1]:indx[i]]))\n",
    "for img in imgs:\n",
    "    plt.imshow(img)"
   ]
  },
  {
   "cell_type": "code",
   "execution_count": null,
   "metadata": {},
   "outputs": [],
   "source": []
  }
 ],
 "metadata": {
  "kernelspec": {
   "display_name": "Python 3",
   "language": "python",
   "name": "python3"
  },
  "language_info": {
   "codemirror_mode": {
    "name": "ipython",
    "version": 3
   },
   "file_extension": ".py",
   "mimetype": "text/x-python",
   "name": "python",
   "nbconvert_exporter": "python",
   "pygments_lexer": "ipython3",
   "version": "3.5.2"
  }
 },
 "nbformat": 4,
 "nbformat_minor": 2
}
